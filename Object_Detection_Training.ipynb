{
  "cells": [
    {
      "cell_type": "markdown",
      "source": [
        "<a href=\"https://colab.research.google.com/github/revaan-mishra/Diabetes_Prediction/blob/main/Diabetes_Prediction.ipynb\" target=\"_parent\"><img src=\"https://colab.research.google.com/assets/colab-badge.svg\" alt=\"Open In Colab\"/></a>"
      ],
      "metadata": {
        "id": "dOEOsNXhQzih"
      }
    },
    {
      "cell_type": "markdown",
      "metadata": {
        "id": "fzqQimttWgX9"
      },
      "source": [
        "## 0. Download dataset"
      ]
    },
    {
      "cell_type": "code",
      "execution_count": null,
      "metadata": {
        "colab": {
          "base_uri": "https://localhost:8080/"
        },
        "id": "dWc6X-CTWgYA",
        "outputId": "284e07e8-486f-4c0a-ffe8-1111aa757406"
      },
      "outputs": [
        {
          "name": "stdout",
          "output_type": "stream",
          "text": [
            "Downloading...\n",
            "From (uriginal): https://drive.google.com/uc?id=1vOj9OpxeyozWzpPCtUY7fDVaBQwsPM9n\n",
            "From (redirected): https://drive.google.com/uc?id=1vOj9OpxeyozWzpPCtUY7fDVaBQwsPM9n&confirm=t&uuid=f6c0598b-accf-473e-95b2-8be35b5c7932\n",
            "To: /home/aivn12s1/thangdd/project_object_tracking/MOT17.zip\n",
            "100%|██████████████████████████████████████| 5.86G/5.86G [09:50<00:00, 9.92MB/s]\n"
          ]
        }
      ],
      "source": [
        "# way 1\n",
        "!wget https://motchallenge.net/data/MOT17.zip\n",
        "\n",
        "# way 2: might not be available\n",
        "# !gdown 1vOj9OpxeyozWzpPCtUY7fDVaBQwsPM9n"
      ]
    },
    {
      "cell_type": "code",
      "execution_count": null,
      "metadata": {
        "id": "f86KAOjhWgYB"
      },
      "outputs": [],
      "source": [
        "!unzip -qq MOT17.zip"
      ]
    },
    {
      "cell_type": "markdown",
      "metadata": {
        "id": "AKiqvNJDXvYA"
      },
      "source": [
        "## 1. Import libraries"
      ]
    },
    {
      "cell_type": "code",
      "execution_count": null,
      "metadata": {
        "id": "9Yuuj3IRYpAz"
      },
      "outputs": [],
      "source": [
        "!pip install ultralytics -q"
      ]
    },
    {
      "cell_type": "code",
      "execution_count": null,
      "metadata": {
        "colab": {
          "base_uri": "https://localhost:8080/"
        },
        "id": "KTTXJu4PX2vE",
        "outputId": "0c71a596-c1c3-48d5-d8da-1ad799f3cc6f"
      },
      "outputs": [
        {
          "name": "stdout",
          "output_type": "stream",
          "text": [
            "Ultralytics YOLOv8.0.222 🚀 Python-3.11.5 torch-2.1.1 CUDA:0 (NVIDIA GeForce RTX 3060, 12036MiB)\n",
            "Setup complete ✅ (20 CPUs, 31.1 GB RAM, 470.7/915.3 GB disk)\n"
          ]
        }
      ],
      "source": [
        "import pandas as pd\n",
        "import os\n",
        "import yaml\n",
        "import shutil\n",
        "import configparser\n",
        "import ultralytics\n",
        "ultralytics.checks()\n",
        "\n",
        "from tqdm import tqdm\n",
        "from ultralytics import YOLO"
      ]
    },
    {
      "cell_type": "markdown",
      "metadata": {
        "id": "0gW5i7_SWgYB"
      },
      "source": [
        "## 2. Convert to YOLO format"
      ]
    },
    {
      "cell_type": "code",
      "execution_count": null,
      "metadata": {
        "id": "OwTyMupgWgYB"
      },
      "outputs": [],
      "source": [
        "def convert_to_yolo_format(bb, img_width, img_height):\n",
        "    x_center = bb['bb_left'] + (bb['bb_width'] / 2)\n",
        "    y_center = bb['bb_top'] + (bb['bb_height'] / 2)\n",
        "\n",
        "    # Normalize the coordinates by the dimensions of the image\n",
        "    x_center /= img_width\n",
        "    y_center /= img_height\n",
        "    bb_width_normalized = bb['bb_width'] / img_width\n",
        "    bb_height_normalized = bb['bb_height'] / img_height\n",
        "\n",
        "    # Clip the values to make sure they are between 0 and 1\n",
        "    x_center = max(min(x_center, 1), 0)\n",
        "    y_center = max(min(y_center, 1), 0)\n",
        "    bb_width_normalized = max(min(bb_width_normalized, 1), 0)\n",
        "    bb_height_normalized = max(min(bb_height_normalized, 1), 0)\n",
        "\n",
        "    return (x_center, y_center, bb_width_normalized, bb_height_normalized)"
      ]
    },
    {
      "cell_type": "code",
      "execution_count": null,
      "metadata": {
        "id": "JL58RczuXt3t"
      },
      "outputs": [],
      "source": [
        "def process_folder(folder_path):\n",
        "    # Read image dimensions from seqinfo.ini\n",
        "    config = configparser.ConfigParser()\n",
        "    config.read(os.path.join(folder_path, 'seqinfo.ini'))\n",
        "    img_width = int(config['Sequence']['imWidth'])\n",
        "    img_height = int(config['Sequence']['imHeight'])\n",
        "\n",
        "    # Load ground truth data\n",
        "    gt_path = os.path.join(folder_path, 'det/det.txt')\n",
        "    gt_data = pd.read_csv(\n",
        "        gt_path,\n",
        "        header=None,\n",
        "        names=['frame', 'id', 'bb_left', 'bb_top', 'bb_width', 'bb_height', 'conf', 'class', 'visibility']\n",
        "    )\n",
        "\n",
        "    labels_folder = os.path.join(folder_path, 'labels')\n",
        "    os.makedirs(labels_folder, exist_ok=True)\n",
        "\n",
        "    for frame_number in gt_data['frame'].unique():\n",
        "        frame_data = gt_data[gt_data['frame'] == frame_number]\n",
        "        label_file = os.path.join(labels_folder, f'{frame_number:06d}.txt')\n",
        "\n",
        "        with open(label_file, 'w') as file:\n",
        "            for _, row in frame_data.iterrows():\n",
        "                yolo_bb = convert_to_yolo_format(row, img_width, img_height)\n",
        "                file.write(f'0 {yolo_bb[0]} {yolo_bb[1]} {yolo_bb[2]} {yolo_bb[3]}\\n')"
      ]
    },
    {
      "cell_type": "code",
      "execution_count": null,
      "metadata": {
        "id": "lhSpTZcxX749"
      },
      "outputs": [],
      "source": [
        "def process_all_folders(base_directory):\n",
        "    # List all subdirectories in the base directory\n",
        "    for folder_name in tqdm(os.listdir(base_directory)):\n",
        "        folder_path = os.path.join(base_directory, folder_name)\n",
        "\n",
        "        # Delete folder not contain 'FRCNN' in name\n",
        "        if 'FRCNN' not in folder_name:\n",
        "            os.system(f'rm -rf {folder_path}')\n",
        "            continue\n",
        "\n",
        "        if os.path.isdir(folder_path):\n",
        "            process_folder(folder_path)"
      ]
    },
    {
      "cell_type": "code",
      "execution_count": null,
      "metadata": {
        "colab": {
          "base_uri": "https://localhost:8080/"
        },
        "id": "9KKyZKgLWgYC",
        "outputId": "cabdc90e-f0b3-43eb-ee0d-1b71d43774c4"
      },
      "outputs": [
        {
          "name": "stderr",
          "output_type": "stream",
          "text": [
            "100%|███████████████████████████████████████████████████████████████████████████████████████████████████████████████████████████████████████████████████████| 21/21 [00:02<00:00,  9.12it/s]\n",
            "100%|███████████████████████████████████████████████████████████████████████████████████████████████████████████████████████████████████████████████████████| 21/21 [00:03<00:00,  6.79it/s]\n"
          ]
        }
      ],
      "source": [
        "process_all_folders('MOT17/train')\n",
        "process_all_folders('MOT17/test')"
      ]
    },
    {
      "cell_type": "markdown",
      "metadata": {
        "id": "H00j1AYOWgYD"
      },
      "source": [
        "## 3. Move file"
      ]
    },
    {
      "cell_type": "code",
      "execution_count": null,
      "metadata": {
        "id": "99_TdxY6WgYE"
      },
      "outputs": [],
      "source": [
        "def rename_and_move_files(src_folder, dst_folder, folder_name, file_extension):\n",
        "    for filename in os.listdir(src_folder):\n",
        "        if filename.endswith(file_extension):\n",
        "            # Include folder name in the new filename\n",
        "            new_filename = f'{folder_name}_{filename}'\n",
        "            shutil.move(os.path.join(src_folder, filename), os.path.join(dst_folder, new_filename))"
      ]
    },
    {
      "cell_type": "code",
      "execution_count": null,
      "metadata": {
        "id": "YVmWsaLEiz1A"
      },
      "outputs": [],
      "source": [
        "def move_files_all_folders(base_directory):\n",
        "    images_dir = os.path.join(base_directory, 'images')\n",
        "    labels_dir = os.path.join(base_directory, 'labels')\n",
        "    os.makedirs(images_dir, exist_ok=True)\n",
        "    os.makedirs(labels_dir, exist_ok=True)\n",
        "\n",
        "    for folder_name in tqdm(os.listdir(base_directory)):\n",
        "        if folder_name in ['images', 'labels']:  # Skip these folders\n",
        "            continue\n",
        "\n",
        "        folder_path = os.path.join(base_directory, folder_name)\n",
        "        if os.path.isdir(folder_path):\n",
        "            rename_and_move_files(os.path.join(folder_path, 'img1'), images_dir, folder_name, '.jpg')\n",
        "            rename_and_move_files(os.path.join(folder_path, 'labels'), labels_dir, folder_name, '.txt')"
      ]
    },
    {
      "cell_type": "code",
      "execution_count": null,
      "metadata": {
        "colab": {
          "base_uri": "https://localhost:8080/"
        },
        "id": "YQ04pgWTWgYE",
        "outputId": "3beba9f9-8f9a-43a7-9936-1446e7aea394"
      },
      "outputs": [
        {
          "name": "stderr",
          "output_type": "stream",
          "text": [
            "100%|█████████████████████████████████████████████████████████████████████████████████████████████████████████████████████████████████████████████████████████| 9/9 [00:00<00:00, 84.77it/s]\n",
            "100%|█████████████████████████████████████████████████████████████████████████████████████████████████████████████████████████████████████████████████████████| 9/9 [00:00<00:00, 87.26it/s]\n"
          ]
        }
      ],
      "source": [
        "move_files_all_folders('MOT17/train')\n",
        "move_files_all_folders('MOT17/test')"
      ]
    },
    {
      "cell_type": "code",
      "execution_count": null,
      "metadata": {
        "id": "ao-bBHNJWgYE"
      },
      "outputs": [],
      "source": [
        "def delete_subfolders(base_directory):\n",
        "    for folder_name in os.listdir(base_directory):\n",
        "        folder_path = os.path.join(base_directory, folder_name)\n",
        "        if os.path.isdir(folder_path) and folder_name not in ['images', 'labels']:\n",
        "            shutil.rmtree(folder_path)\n",
        "            print(f\"Deleted folder: {folder_name}\")"
      ]
    },
    {
      "cell_type": "code",
      "execution_count": null,
      "metadata": {
        "colab": {
          "base_uri": "https://localhost:8080/"
        },
        "id": "xqfRtOBKWgYF",
        "outputId": "138fd941-7750-4c83-dccf-024ad7b63cf7",
        "scrolled": true
      },
      "outputs": [
        {
          "name": "stdout",
          "output_type": "stream",
          "text": [
            "Deleted folder: MOT17-09-FRCNN\n",
            "Deleted folder: MOT17-05-FRCNN\n",
            "Deleted folder: MOT17-04-FRCNN\n",
            "Deleted folder: MOT17-13-FRCNN\n",
            "Deleted folder: MOT17-11-FRCNN\n",
            "Deleted folder: MOT17-02-FRCNN\n",
            "Deleted folder: MOT17-10-FRCNN\n",
            "Deleted folder: MOT17-01-FRCNN\n",
            "Deleted folder: MOT17-14-FRCNN\n",
            "Deleted folder: MOT17-06-FRCNN\n",
            "Deleted folder: MOT17-03-FRCNN\n",
            "Deleted folder: MOT17-07-FRCNN\n",
            "Deleted folder: MOT17-08-FRCNN\n",
            "Deleted folder: MOT17-12-FRCNN\n"
          ]
        }
      ],
      "source": [
        "# Delete all subfolders except 'images' and 'labels'\n",
        "delete_subfolders('MOT17/train')\n",
        "delete_subfolders('MOT17/test')"
      ]
    },
    {
      "cell_type": "markdown",
      "metadata": {
        "id": "iLJmRT8DWgYF"
      },
      "source": [
        "## 4. Create yaml file"
      ]
    },
    {
      "cell_type": "code",
      "execution_count": null,
      "metadata": {
        "id": "EkAwiV0PWgYF"
      },
      "outputs": [],
      "source": [
        "class_labels = [\n",
        "    'objects'\n",
        "]\n",
        "dataset_root_dir = os.path.join(\n",
        "    os.getcwd(),\n",
        "    'MOT17'\n",
        ")\n",
        "yolo_yaml_path = os.path.join(\n",
        "    dataset_root_dir,\n",
        "    'mot17_data.yml'\n",
        ")\n",
        "\n",
        "data_yaml = {\n",
        "    'path': dataset_root_dir,\n",
        "    'train': 'train/images',\n",
        "    'val': 'test/images',\n",
        "    'nc': len(class_labels),\n",
        "    'names': class_labels\n",
        "}\n",
        "\n",
        "with open(yolo_yaml_path, 'w') as f:\n",
        "    yaml.dump(data_yaml, f, default_flow_style=False)"
      ]
    },
    {
      "cell_type": "markdown",
      "metadata": {
        "id": "YSobHMSKWgYF"
      },
      "source": [
        "## 5. Training"
      ]
    },
    {
      "cell_type": "code",
      "execution_count": null,
      "metadata": {
        "colab": {
          "base_uri": "https://localhost:8080/"
        },
        "id": "gZVIt2Z-WgYF",
        "outputId": "7b11c908-040d-40eb-d79b-a4eb8277a4de",
        "scrolled": false
      },
      "outputs": [
        {
          "name": "stdout",
          "output_type": "stream",
          "text": [
            "New https://pypi.org/project/ultralytics/8.1.0 available 😃 Update with 'pip install -U ultralytics'\n",
            "Ultralytics YOLOv8.0.222 🚀 Python-3.11.5 torch-2.1.1 CUDA:0 (NVIDIA GeForce RTX 3060, 12036MiB)\n",
            "\u001b[34m\u001b[1mengine/trainer: \u001b[0mtask=detect, mode=train, model=yolov8s.pt, data=/home/aivn12s1/thangdd/project_object_tracking/MOT17/mot17_data.yml, epochs=30, patience=50, batch=-1, imgsz=640, save=True, save_period=-1, cache=False, device=None, workers=8, project=models/yolo, name=yolov8s_mot17_det3, exist_ok=False, pretrained=True, optimizer=auto, verbose=True, seed=0, deterministic=True, single_cls=False, rect=False, cos_lr=False, close_mosaic=10, resume=False, amp=True, fraction=1.0, profile=False, freeze=None, overlap_mask=True, mask_ratio=4, dropout=0.0, val=True, split=val, save_json=False, save_hybrid=False, conf=None, iou=0.7, max_det=300, half=False, dnn=False, plots=True, source=None, vid_stride=1, stream_buffer=False, visualize=False, augment=False, agnostic_nms=False, classes=None, retina_masks=False, show=False, save_frames=False, save_txt=False, save_conf=False, save_crop=False, show_labels=True, show_conf=True, show_boxes=True, line_width=None, format=torchscript, keras=False, optimize=False, int8=False, dynamic=False, simplify=False, opset=None, workspace=4, nms=False, lr0=0.01, lrf=0.01, momentum=0.937, weight_decay=0.0005, warmup_epochs=3.0, warmup_momentum=0.8, warmup_bias_lr=0.1, box=7.5, cls=0.5, dfl=1.5, pose=12.0, kobj=1.0, label_smoothing=0.0, nbs=64, hsv_h=0.015, hsv_s=0.7, hsv_v=0.4, degrees=0.0, translate=0.1, scale=0.5, shear=0.0, perspective=0.0, flipud=0.0, fliplr=0.5, mosaic=1.0, mixup=0.0, copy_paste=0.0, cfg=None, tracker=botsort.yaml, save_dir=models/yolo/yolov8s_mot17_det3\n",
            "Overriding model.yaml nc=80 with nc=1\n",
            "\n",
            "                   from  n    params  module                                       arguments                     \n",
            "  0                  -1  1       928  ultralytics.nn.modules.conv.Conv             [3, 32, 3, 2]                 \n",
            "  1                  -1  1     18560  ultralytics.nn.modules.conv.Conv             [32, 64, 3, 2]                \n",
            "  2                  -1  1     29056  ultralytics.nn.modules.block.C2f             [64, 64, 1, True]             \n",
            "  3                  -1  1     73984  ultralytics.nn.modules.conv.Conv             [64, 128, 3, 2]               \n",
            "  4                  -1  2    197632  ultralytics.nn.modules.block.C2f             [128, 128, 2, True]           \n",
            "  5                  -1  1    295424  ultralytics.nn.modules.conv.Conv             [128, 256, 3, 2]              \n",
            "  6                  -1  2    788480  ultralytics.nn.modules.block.C2f             [256, 256, 2, True]           \n",
            "  7                  -1  1   1180672  ultralytics.nn.modules.conv.Conv             [256, 512, 3, 2]              \n",
            "  8                  -1  1   1838080  ultralytics.nn.modules.block.C2f             [512, 512, 1, True]           \n",
            "  9                  -1  1    656896  ultralytics.nn.modules.block.SPPF            [512, 512, 5]                 \n",
            " 10                  -1  1         0  torch.nn.modules.upsampling.Upsample         [None, 2, 'nearest']          \n",
            " 11             [-1, 6]  1         0  ultralytics.nn.modules.conv.Concat           [1]                           \n",
            " 12                  -1  1    591360  ultralytics.nn.modules.block.C2f             [768, 256, 1]                 \n",
            " 13                  -1  1         0  torch.nn.modules.upsampling.Upsample         [None, 2, 'nearest']          \n",
            " 14             [-1, 4]  1         0  ultralytics.nn.modules.conv.Concat           [1]                           \n",
            " 15                  -1  1    148224  ultralytics.nn.modules.block.C2f             [384, 128, 1]                 \n",
            " 16                  -1  1    147712  ultralytics.nn.modules.conv.Conv             [128, 128, 3, 2]              \n",
            " 17            [-1, 12]  1         0  ultralytics.nn.modules.conv.Concat           [1]                           \n",
            " 18                  -1  1    493056  ultralytics.nn.modules.block.C2f             [384, 256, 1]                 \n",
            " 19                  -1  1    590336  ultralytics.nn.modules.conv.Conv             [256, 256, 3, 2]              \n",
            " 20             [-1, 9]  1         0  ultralytics.nn.modules.conv.Concat           [1]                           \n",
            " 21                  -1  1   1969152  ultralytics.nn.modules.block.C2f             [768, 512, 1]                 \n",
            " 22        [15, 18, 21]  1   2116435  ultralytics.nn.modules.head.Detect           [1, [128, 256, 512]]          \n",
            "Model summary: 225 layers, 11135987 parameters, 11135971 gradients, 28.6 GFLOPs\n",
            "\n",
            "Transferred 349/355 items from pretrained weights\n",
            "Freezing layer 'model.22.dfl.conv.weight'\n",
            "\u001b[34m\u001b[1mAMP: \u001b[0mrunning Automatic Mixed Precision (AMP) checks with YOLOv8n...\n",
            "Downloading https://github.com/ultralytics/assets/releases/download/v0.0.0/yolov8n.pt to 'yolov8n.pt'...\n"
          ]
        },
        {
          "name": "stderr",
          "output_type": "stream",
          "text": [
            "100%|██████████████████████████████████████████████████████████████████████████████████████████████████████████████████████████████████████████████████| 6.23M/6.23M [00:00<00:00, 10.2MB/s]\n"
          ]
        },
        {
          "name": "stdout",
          "output_type": "stream",
          "text": [
            "\u001b[34m\u001b[1mAMP: \u001b[0mchecks passed ✅\n",
            "\u001b[34m\u001b[1mAutoBatch: \u001b[0mComputing optimal batch size for imgsz=640\n",
            "\u001b[34m\u001b[1mAutoBatch: \u001b[0mCUDA:0 (NVIDIA GeForce RTX 3060) 11.75G total, 0.25G reserved, 0.11G allocated, 11.39G free\n",
            "      Params      GFLOPs  GPU_mem (GB)  forward (ms) backward (ms)                   input                  output\n",
            "    11135987       28.65         0.480         8.772         65.88        (1, 3, 640, 640)                    list\n",
            "    11135987       57.29         0.732         9.154         24.55        (2, 3, 640, 640)                    list\n",
            "    11135987       114.6         1.109         16.44         28.98        (4, 3, 640, 640)                    list\n",
            "    11135987       229.2         1.896         30.17         38.57        (8, 3, 640, 640)                    list\n",
            "    11135987       458.4         3.571          59.6         65.37       (16, 3, 640, 640)                    list\n",
            "\u001b[34m\u001b[1mAutoBatch: \u001b[0mUsing batch-size 32 for CUDA:0 7.19G/11.75G (61%) ✅\n"
          ]
        },
        {
          "name": "stderr",
          "output_type": "stream",
          "text": [
            "\u001b[34m\u001b[1mtrain: \u001b[0mScanning /home/aivn12s1/thangdd/project_object_tracking/MOT17/train/labels... 5316 images, 0 backgrounds, 0 corrupt: 100%|██████████| 5316/5316 [00:05<00:00, 1011.68it/s]\u001b[0m\n"
          ]
        },
        {
          "name": "stdout",
          "output_type": "stream",
          "text": [
            "\u001b[34m\u001b[1mtrain: \u001b[0mNew cache created: /home/aivn12s1/thangdd/project_object_tracking/MOT17/train/labels.cache\n"
          ]
        },
        {
          "name": "stderr",
          "output_type": "stream",
          "text": [
            "\u001b[34m\u001b[1mval: \u001b[0mScanning /home/aivn12s1/thangdd/project_object_tracking/MOT17/test/labels... 5908 images, 11 backgrounds, 0 corrupt: 100%|██████████| 5919/5919 [00:03<00:00, 1526.12it/s]\u001b[0m\n"
          ]
        },
        {
          "name": "stdout",
          "output_type": "stream",
          "text": [
            "\u001b[34m\u001b[1mval: \u001b[0mNew cache created: /home/aivn12s1/thangdd/project_object_tracking/MOT17/test/labels.cache\n",
            "Plotting labels to models/yolo/yolov8s_mot17_det3/labels.jpg... \n",
            "\u001b[34m\u001b[1moptimizer:\u001b[0m 'optimizer=auto' found, ignoring 'lr0=0.01' and 'momentum=0.937' and determining best 'optimizer', 'lr0' and 'momentum' automatically... \n",
            "\u001b[34m\u001b[1moptimizer:\u001b[0m AdamW(lr=0.002, momentum=0.9) with parameter groups 57 weight(decay=0.0), 64 weight(decay=0.0005), 63 bias(decay=0.0)\n",
            "Image sizes 640 train, 640 val\n",
            "Using 8 dataloader workers\n",
            "Logging results to \u001b[1mmodels/yolo/yolov8s_mot17_det3\u001b[0m\n",
            "Starting training for 30 epochs...\n",
            "\n",
            "      Epoch    GPU_mem   box_loss   cls_loss   dfl_loss  Instances       Size\n"
          ]
        },
        {
          "name": "stderr",
          "output_type": "stream",
          "text": [
            "       1/30      8.12G      1.095     0.7265     0.9617        104        640: 100%|██████████| 167/167 [00:59<00:00,  2.81it/s]\n",
            "                 Class     Images  Instances      Box(P          R      mAP50  mAP50-95): 100%|██████████| 93/93 [00:21<00:00,  4.24it/s]\n"
          ]
        },
        {
          "name": "stdout",
          "output_type": "stream",
          "text": [
            "                   all       5919     110141       0.85      0.782      0.882      0.553\n",
            "\n",
            "      Epoch    GPU_mem   box_loss   cls_loss   dfl_loss  Instances       Size\n"
          ]
        },
        {
          "name": "stderr",
          "output_type": "stream",
          "text": [
            "       2/30      8.14G      0.998     0.5988     0.9331         56        640: 100%|██████████| 167/167 [00:58<00:00,  2.83it/s]\n",
            "                 Class     Images  Instances      Box(P          R      mAP50  mAP50-95): 100%|██████████| 93/93 [00:21<00:00,  4.36it/s]\n"
          ]
        },
        {
          "name": "stdout",
          "output_type": "stream",
          "text": [
            "                   all       5919     110141      0.893      0.815      0.907      0.607\n",
            "\n",
            "      Epoch    GPU_mem   box_loss   cls_loss   dfl_loss  Instances       Size\n"
          ]
        },
        {
          "name": "stderr",
          "output_type": "stream",
          "text": [
            "       3/30      7.81G     0.9428     0.5573      0.917         85        640: 100%|██████████| 167/167 [00:58<00:00,  2.84it/s]\n",
            "                 Class     Images  Instances      Box(P          R      mAP50  mAP50-95): 100%|██████████| 93/93 [00:21<00:00,  4.37it/s]\n"
          ]
        },
        {
          "name": "stdout",
          "output_type": "stream",
          "text": [
            "                   all       5919     110141      0.869      0.815      0.894      0.571\n",
            "\n",
            "      Epoch    GPU_mem   box_loss   cls_loss   dfl_loss  Instances       Size\n"
          ]
        },
        {
          "name": "stderr",
          "output_type": "stream",
          "text": [
            "       4/30      7.89G       0.93     0.5494     0.9146         71        640: 100%|██████████| 167/167 [00:58<00:00,  2.84it/s]\n",
            "                 Class     Images  Instances      Box(P          R      mAP50  mAP50-95): 100%|██████████| 93/93 [00:21<00:00,  4.36it/s]\n"
          ]
        },
        {
          "name": "stdout",
          "output_type": "stream",
          "text": [
            "                   all       5919     110141      0.879      0.798      0.882      0.577\n",
            "\n",
            "      Epoch    GPU_mem   box_loss   cls_loss   dfl_loss  Instances       Size\n"
          ]
        },
        {
          "name": "stderr",
          "output_type": "stream",
          "text": [
            "       5/30      7.91G     0.8723      0.514     0.9004         87        640: 100%|██████████| 167/167 [00:58<00:00,  2.84it/s]\n",
            "                 Class     Images  Instances      Box(P          R      mAP50  mAP50-95): 100%|██████████| 93/93 [00:21<00:00,  4.37it/s]\n"
          ]
        },
        {
          "name": "stdout",
          "output_type": "stream",
          "text": [
            "                   all       5919     110141      0.874      0.805      0.895      0.598\n",
            "\n",
            "      Epoch    GPU_mem   box_loss   cls_loss   dfl_loss  Instances       Size\n"
          ]
        },
        {
          "name": "stderr",
          "output_type": "stream",
          "text": [
            "       6/30      8.22G     0.8481     0.4912     0.8937        108        640: 100%|██████████| 167/167 [00:58<00:00,  2.84it/s]\n",
            "                 Class     Images  Instances      Box(P          R      mAP50  mAP50-95): 100%|██████████| 93/93 [00:21<00:00,  4.39it/s]\n"
          ]
        },
        {
          "name": "stdout",
          "output_type": "stream",
          "text": [
            "                   all       5919     110141      0.873      0.831      0.904      0.611\n",
            "\n",
            "      Epoch    GPU_mem   box_loss   cls_loss   dfl_loss  Instances       Size\n"
          ]
        },
        {
          "name": "stderr",
          "output_type": "stream",
          "text": [
            "       7/30      8.14G     0.8213     0.4735     0.8859         90        640: 100%|██████████| 167/167 [00:58<00:00,  2.84it/s]\n",
            "                 Class     Images  Instances      Box(P          R      mAP50  mAP50-95): 100%|██████████| 93/93 [00:21<00:00,  4.39it/s]\n"
          ]
        },
        {
          "name": "stdout",
          "output_type": "stream",
          "text": [
            "                   all       5919     110141       0.88      0.817      0.904      0.603\n",
            "\n",
            "      Epoch    GPU_mem   box_loss   cls_loss   dfl_loss  Instances       Size\n"
          ]
        },
        {
          "name": "stderr",
          "output_type": "stream",
          "text": [
            "       8/30      8.19G     0.7898     0.4584     0.8806         91        640: 100%|██████████| 167/167 [00:58<00:00,  2.84it/s]\n",
            "                 Class     Images  Instances      Box(P          R      mAP50  mAP50-95): 100%|██████████| 93/93 [00:21<00:00,  4.38it/s]\n"
          ]
        },
        {
          "name": "stdout",
          "output_type": "stream",
          "text": [
            "                   all       5919     110141      0.881      0.808      0.884      0.579\n",
            "\n",
            "      Epoch    GPU_mem   box_loss   cls_loss   dfl_loss  Instances       Size\n"
          ]
        },
        {
          "name": "stderr",
          "output_type": "stream",
          "text": [
            "       9/30      8.14G     0.7743     0.4481     0.8764         84        640: 100%|██████████| 167/167 [00:58<00:00,  2.84it/s]\n",
            "                 Class     Images  Instances      Box(P          R      mAP50  mAP50-95): 100%|██████████| 93/93 [00:21<00:00,  4.40it/s]\n"
          ]
        },
        {
          "name": "stdout",
          "output_type": "stream",
          "text": [
            "                   all       5919     110141      0.897      0.815      0.908      0.616\n",
            "\n",
            "      Epoch    GPU_mem   box_loss   cls_loss   dfl_loss  Instances       Size\n"
          ]
        },
        {
          "name": "stderr",
          "output_type": "stream",
          "text": [
            "      10/30      8.04G      0.749     0.4319     0.8701        150        640: 100%|██████████| 167/167 [00:58<00:00,  2.85it/s]\n",
            "                 Class     Images  Instances      Box(P          R      mAP50  mAP50-95): 100%|██████████| 93/93 [00:21<00:00,  4.41it/s]\n"
          ]
        },
        {
          "name": "stdout",
          "output_type": "stream",
          "text": [
            "                   all       5919     110141      0.898      0.792      0.892      0.628\n",
            "\n",
            "      Epoch    GPU_mem   box_loss   cls_loss   dfl_loss  Instances       Size\n"
          ]
        },
        {
          "name": "stderr",
          "output_type": "stream",
          "text": [
            "      11/30      8.03G     0.7393     0.4219     0.8682         36        640: 100%|██████████| 167/167 [00:58<00:00,  2.84it/s]\n",
            "                 Class     Images  Instances      Box(P          R      mAP50  mAP50-95): 100%|██████████| 93/93 [00:21<00:00,  4.40it/s]\n"
          ]
        },
        {
          "name": "stdout",
          "output_type": "stream",
          "text": [
            "                   all       5919     110141       0.89      0.817      0.905      0.619\n",
            "\n",
            "      Epoch    GPU_mem   box_loss   cls_loss   dfl_loss  Instances       Size\n"
          ]
        },
        {
          "name": "stderr",
          "output_type": "stream",
          "text": [
            "      12/30       8.1G     0.7201     0.4101      0.864         80        640: 100%|██████████| 167/167 [00:58<00:00,  2.84it/s]\n",
            "                 Class     Images  Instances      Box(P          R      mAP50  mAP50-95): 100%|██████████| 93/93 [00:21<00:00,  4.40it/s]\n"
          ]
        },
        {
          "name": "stdout",
          "output_type": "stream",
          "text": [
            "                   all       5919     110141      0.896      0.804      0.901      0.613\n",
            "\n",
            "      Epoch    GPU_mem   box_loss   cls_loss   dfl_loss  Instances       Size\n"
          ]
        },
        {
          "name": "stderr",
          "output_type": "stream",
          "text": [
            "      13/30      8.26G      0.707     0.4042     0.8622         63        640: 100%|██████████| 167/167 [00:58<00:00,  2.84it/s]\n",
            "                 Class     Images  Instances      Box(P          R      mAP50  mAP50-95): 100%|██████████| 93/93 [00:21<00:00,  4.40it/s]\n"
          ]
        },
        {
          "name": "stdout",
          "output_type": "stream",
          "text": [
            "                   all       5919     110141      0.895      0.801        0.9      0.623\n",
            "\n",
            "      Epoch    GPU_mem   box_loss   cls_loss   dfl_loss  Instances       Size\n"
          ]
        },
        {
          "name": "stderr",
          "output_type": "stream",
          "text": [
            "      14/30      8.06G      0.704     0.4014     0.8617         75        640: 100%|██████████| 167/167 [00:58<00:00,  2.84it/s]\n",
            "                 Class     Images  Instances      Box(P          R      mAP50  mAP50-95): 100%|██████████| 93/93 [00:21<00:00,  4.36it/s]\n"
          ]
        },
        {
          "name": "stdout",
          "output_type": "stream",
          "text": [
            "                   all       5919     110141      0.899      0.812      0.907      0.625\n",
            "\n",
            "      Epoch    GPU_mem   box_loss   cls_loss   dfl_loss  Instances       Size\n"
          ]
        },
        {
          "name": "stderr",
          "output_type": "stream",
          "text": [
            "      15/30      7.85G     0.6923     0.3947     0.8603        107        640: 100%|██████████| 167/167 [00:58<00:00,  2.84it/s]\n",
            "                 Class     Images  Instances      Box(P          R      mAP50  mAP50-95): 100%|██████████| 93/93 [00:21<00:00,  4.37it/s]\n"
          ]
        },
        {
          "name": "stdout",
          "output_type": "stream",
          "text": [
            "                   all       5919     110141      0.887      0.814      0.901      0.624\n",
            "\n",
            "      Epoch    GPU_mem   box_loss   cls_loss   dfl_loss  Instances       Size\n"
          ]
        },
        {
          "name": "stderr",
          "output_type": "stream",
          "text": [
            "      16/30      8.21G     0.6809      0.389     0.8573         72        640: 100%|██████████| 167/167 [00:58<00:00,  2.84it/s]\n",
            "                 Class     Images  Instances      Box(P          R      mAP50  mAP50-95): 100%|██████████| 93/93 [00:21<00:00,  4.36it/s]\n"
          ]
        },
        {
          "name": "stdout",
          "output_type": "stream",
          "text": [
            "                   all       5919     110141      0.894       0.81      0.904      0.635\n",
            "\n",
            "      Epoch    GPU_mem   box_loss   cls_loss   dfl_loss  Instances       Size\n"
          ]
        },
        {
          "name": "stderr",
          "output_type": "stream",
          "text": [
            "      17/30      8.22G     0.6577     0.3758     0.8534        139        640: 100%|██████████| 167/167 [00:58<00:00,  2.84it/s]\n",
            "                 Class     Images  Instances      Box(P          R      mAP50  mAP50-95): 100%|██████████| 93/93 [00:21<00:00,  4.36it/s]\n"
          ]
        },
        {
          "name": "stdout",
          "output_type": "stream",
          "text": [
            "                   all       5919     110141      0.896      0.811      0.908      0.633\n",
            "\n",
            "      Epoch    GPU_mem   box_loss   cls_loss   dfl_loss  Instances       Size\n"
          ]
        },
        {
          "name": "stderr",
          "output_type": "stream",
          "text": [
            "      18/30      7.88G     0.6489     0.3696     0.8508         92        640: 100%|██████████| 167/167 [00:58<00:00,  2.84it/s]\n",
            "                 Class     Images  Instances      Box(P          R      mAP50  mAP50-95): 100%|██████████| 93/93 [00:21<00:00,  4.36it/s]\n"
          ]
        },
        {
          "name": "stdout",
          "output_type": "stream",
          "text": [
            "                   all       5919     110141      0.901      0.793      0.893      0.619\n",
            "\n",
            "      Epoch    GPU_mem   box_loss   cls_loss   dfl_loss  Instances       Size\n"
          ]
        },
        {
          "name": "stderr",
          "output_type": "stream",
          "text": [
            "      19/30      7.94G      0.642     0.3644     0.8491         70        640: 100%|██████████| 167/167 [00:58<00:00,  2.84it/s]\n",
            "                 Class     Images  Instances      Box(P          R      mAP50  mAP50-95): 100%|██████████| 93/93 [00:21<00:00,  4.31it/s]\n"
          ]
        },
        {
          "name": "stdout",
          "output_type": "stream",
          "text": [
            "                   all       5919     110141      0.904      0.803      0.902       0.64\n",
            "\n",
            "      Epoch    GPU_mem   box_loss   cls_loss   dfl_loss  Instances       Size\n"
          ]
        },
        {
          "name": "stderr",
          "output_type": "stream",
          "text": [
            "      20/30      8.21G     0.6277     0.3581     0.8458         90        640: 100%|██████████| 167/167 [00:58<00:00,  2.84it/s]\n",
            "                 Class     Images  Instances      Box(P          R      mAP50  mAP50-95): 100%|██████████| 93/93 [00:21<00:00,  4.42it/s]\n"
          ]
        },
        {
          "name": "stdout",
          "output_type": "stream",
          "text": [
            "                   all       5919     110141      0.896      0.811      0.905      0.647\n",
            "Closing dataloader mosaic\n",
            "\n",
            "      Epoch    GPU_mem   box_loss   cls_loss   dfl_loss  Instances       Size\n"
          ]
        },
        {
          "name": "stderr",
          "output_type": "stream",
          "text": [
            "      21/30       7.6G     0.6209     0.3517     0.8346         74        640: 100%|██████████| 167/167 [00:57<00:00,  2.89it/s]\n",
            "                 Class     Images  Instances      Box(P          R      mAP50  mAP50-95): 100%|██████████| 93/93 [00:21<00:00,  4.40it/s]\n"
          ]
        },
        {
          "name": "stdout",
          "output_type": "stream",
          "text": [
            "                   all       5919     110141      0.892      0.817      0.901      0.637\n",
            "\n",
            "      Epoch    GPU_mem   box_loss   cls_loss   dfl_loss  Instances       Size\n"
          ]
        },
        {
          "name": "stderr",
          "output_type": "stream",
          "text": [
            "      22/30      7.58G     0.6087     0.3462     0.8351         32        640: 100%|██████████| 167/167 [00:57<00:00,  2.93it/s]\n",
            "                 Class     Images  Instances      Box(P          R      mAP50  mAP50-95): 100%|██████████| 93/93 [00:21<00:00,  4.41it/s]\n"
          ]
        },
        {
          "name": "stdout",
          "output_type": "stream",
          "text": [
            "                   all       5919     110141      0.905      0.804      0.904      0.642\n",
            "\n",
            "      Epoch    GPU_mem   box_loss   cls_loss   dfl_loss  Instances       Size\n"
          ]
        },
        {
          "name": "stderr",
          "output_type": "stream",
          "text": [
            "      23/30      7.59G     0.5929     0.3363       0.83         36        640: 100%|██████████| 167/167 [00:57<00:00,  2.93it/s]\n",
            "                 Class     Images  Instances      Box(P          R      mAP50  mAP50-95): 100%|██████████| 93/93 [00:21<00:00,  4.41it/s]\n"
          ]
        },
        {
          "name": "stdout",
          "output_type": "stream",
          "text": [
            "                   all       5919     110141      0.898      0.807      0.905      0.646\n",
            "\n",
            "      Epoch    GPU_mem   box_loss   cls_loss   dfl_loss  Instances       Size\n"
          ]
        },
        {
          "name": "stderr",
          "output_type": "stream",
          "text": [
            "      24/30      7.52G     0.5852     0.3307      0.827         53        640: 100%|██████████| 167/167 [00:57<00:00,  2.93it/s]\n",
            "                 Class     Images  Instances      Box(P          R      mAP50  mAP50-95): 100%|██████████| 93/93 [00:21<00:00,  4.42it/s]\n"
          ]
        },
        {
          "name": "stdout",
          "output_type": "stream",
          "text": [
            "                   all       5919     110141      0.903      0.801      0.901      0.644\n",
            "\n",
            "      Epoch    GPU_mem   box_loss   cls_loss   dfl_loss  Instances       Size\n"
          ]
        },
        {
          "name": "stderr",
          "output_type": "stream",
          "text": [
            "      25/30      7.61G     0.5676     0.3203     0.8253         52        640: 100%|██████████| 167/167 [00:57<00:00,  2.93it/s]\n",
            "                 Class     Images  Instances      Box(P          R      mAP50  mAP50-95): 100%|██████████| 93/93 [00:21<00:00,  4.41it/s]\n"
          ]
        },
        {
          "name": "stdout",
          "output_type": "stream",
          "text": [
            "                   all       5919     110141      0.904      0.814      0.907      0.651\n",
            "\n",
            "      Epoch    GPU_mem   box_loss   cls_loss   dfl_loss  Instances       Size\n"
          ]
        },
        {
          "name": "stderr",
          "output_type": "stream",
          "text": [
            "      26/30      7.66G      0.556     0.3137     0.8219         58        640: 100%|██████████| 167/167 [00:57<00:00,  2.93it/s]\n",
            "                 Class     Images  Instances      Box(P          R      mAP50  mAP50-95): 100%|██████████| 93/93 [00:21<00:00,  4.42it/s]\n"
          ]
        },
        {
          "name": "stdout",
          "output_type": "stream",
          "text": [
            "                   all       5919     110141      0.903      0.808      0.908      0.654\n",
            "\n",
            "      Epoch    GPU_mem   box_loss   cls_loss   dfl_loss  Instances       Size\n"
          ]
        },
        {
          "name": "stderr",
          "output_type": "stream",
          "text": [
            "      27/30      7.55G     0.5452     0.3082     0.8196         48        640: 100%|██████████| 167/167 [00:57<00:00,  2.93it/s]\n",
            "                 Class     Images  Instances      Box(P          R      mAP50  mAP50-95): 100%|██████████| 93/93 [00:21<00:00,  4.41it/s]\n"
          ]
        },
        {
          "name": "stdout",
          "output_type": "stream",
          "text": [
            "                   all       5919     110141      0.903      0.806      0.908      0.651\n",
            "\n",
            "      Epoch    GPU_mem   box_loss   cls_loss   dfl_loss  Instances       Size\n"
          ]
        },
        {
          "name": "stderr",
          "output_type": "stream",
          "text": [
            "      28/30      7.53G     0.5304     0.2982     0.8177         61        640: 100%|██████████| 167/167 [00:57<00:00,  2.93it/s]\n",
            "                 Class     Images  Instances      Box(P          R      mAP50  mAP50-95): 100%|██████████| 93/93 [00:21<00:00,  4.42it/s]\n"
          ]
        },
        {
          "name": "stdout",
          "output_type": "stream",
          "text": [
            "                   all       5919     110141      0.906      0.803      0.905      0.653\n",
            "\n",
            "      Epoch    GPU_mem   box_loss   cls_loss   dfl_loss  Instances       Size\n"
          ]
        },
        {
          "name": "stderr",
          "output_type": "stream",
          "text": [
            "      29/30      7.56G     0.5258     0.2958     0.8165         35        640: 100%|██████████| 167/167 [00:57<00:00,  2.93it/s]\n",
            "                 Class     Images  Instances      Box(P          R      mAP50  mAP50-95): 100%|██████████| 93/93 [00:21<00:00,  4.42it/s]\n"
          ]
        },
        {
          "name": "stdout",
          "output_type": "stream",
          "text": [
            "                   all       5919     110141      0.907      0.796      0.901      0.647\n",
            "\n",
            "      Epoch    GPU_mem   box_loss   cls_loss   dfl_loss  Instances       Size\n"
          ]
        },
        {
          "name": "stderr",
          "output_type": "stream",
          "text": [
            "      30/30      7.57G     0.5106      0.287     0.8138         55        640: 100%|██████████| 167/167 [00:57<00:00,  2.93it/s]\n",
            "                 Class     Images  Instances      Box(P          R      mAP50  mAP50-95): 100%|██████████| 93/93 [00:21<00:00,  4.41it/s]\n"
          ]
        },
        {
          "name": "stdout",
          "output_type": "stream",
          "text": [
            "                   all       5919     110141      0.903      0.805      0.903      0.653\n",
            "\n",
            "30 epochs completed in 0.668 hours.\n",
            "Optimizer stripped from models/yolo/yolov8s_mot17_det3/weights/last.pt, 22.5MB\n",
            "Optimizer stripped from models/yolo/yolov8s_mot17_det3/weights/best.pt, 22.5MB\n",
            "\n",
            "Validating models/yolo/yolov8s_mot17_det3/weights/best.pt...\n",
            "Ultralytics YOLOv8.0.222 🚀 Python-3.11.5 torch-2.1.1 CUDA:0 (NVIDIA GeForce RTX 3060, 12036MiB)\n",
            "Model summary (fused): 168 layers, 11125971 parameters, 0 gradients, 28.4 GFLOPs\n"
          ]
        },
        {
          "name": "stderr",
          "output_type": "stream",
          "text": [
            "                 Class     Images  Instances      Box(P          R      mAP50  mAP50-95): 100%|██████████| 93/93 [00:24<00:00,  3.77it/s]\n"
          ]
        },
        {
          "name": "stdout",
          "output_type": "stream",
          "text": [
            "                   all       5919     110141      0.903      0.809      0.908      0.654\n",
            "Speed: 0.1ms preprocess, 1.9ms inference, 0.0ms loss, 0.3ms postprocess per image\n",
            "Results saved to \u001b[1mmodels/yolo/yolov8s_mot17_det3\u001b[0m\n"
          ]
        }
      ],
      "source": [
        "from ultralytics import YOLO\n",
        "\n",
        "# Load the YOLOv8 model\n",
        "model = YOLO('yolov8s.pt')\n",
        "\n",
        "# Config\n",
        "epochs = 30\n",
        "batch_size = -1 # Auto scale based on GPU memory\n",
        "img_size = 640\n",
        "project_name = 'models/yolo'\n",
        "name = 'yolov8s_mot17_det'\n",
        "\n",
        "# Train the model\n",
        "results = model.train(\n",
        "    data=yolo_yaml_path,\n",
        "    epochs=epochs,\n",
        "    batch=batch_size,\n",
        "    imgsz=img_size,\n",
        "    project=project_name,\n",
        "    name=name\n",
        ")"
      ]
    },
    {
      "cell_type": "markdown",
      "metadata": {
        "id": "KZPM5lPdZWn9"
      },
      "source": [
        "## 6. Evaluation"
      ]
    },
    {
      "cell_type": "code",
      "execution_count": null,
      "metadata": {
        "id": "mrEAt-SQZXyI",
        "outputId": "61af76a8-5e46-4c97-b36a-702bc943c437"
      },
      "outputs": [
        {
          "name": "stdout",
          "output_type": "stream",
          "text": [
            "Ultralytics YOLOv8.0.222 🚀 Python-3.11.5 torch-2.1.1 CUDA:0 (NVIDIA GeForce RTX 3060, 12036MiB)\n",
            "Model summary (fused): 168 layers, 11125971 parameters, 0 gradients, 28.4 GFLOPs\n"
          ]
        },
        {
          "name": "stderr",
          "output_type": "stream",
          "text": [
            "\u001b[34m\u001b[1mval: \u001b[0mScanning /home/aivn12s1/thangdd/project_object_tracking/MOT17/test/labels.cache... 5908 images, 11 backgrounds, 0 corrupt: 100%|██████████| 5919/5919 [00:00<?, ?it/s]\u001b[0m\n",
            "                 Class     Images  Instances      Box(P          R      mAP50  mAP50-95): 100%|██████████| 370/370 [00:33<00:00, 10.95it/s]\n"
          ]
        },
        {
          "name": "stdout",
          "output_type": "stream",
          "text": [
            "                   all       5919     110141      0.903      0.809      0.908      0.655\n",
            "Speed: 0.1ms preprocess, 3.4ms inference, 0.0ms loss, 0.2ms postprocess per image\n",
            "Results saved to \u001b[1mmodels/yolo/detect/val\u001b[0m\n"
          ]
        }
      ],
      "source": [
        "from ultralytics import YOLO\n",
        "\n",
        "# Load the trained model\n",
        "model_path = os.path.join(\n",
        "    project_name, name, 'weights/best.pt'\n",
        ")\n",
        "model = YOLO(model_path)\n",
        "\n",
        "metrics = model.val(\n",
        "    project=project_name,\n",
        "    name='detect/val'\n",
        ")"
      ]
    },
    {
      "cell_type": "markdown",
      "metadata": {
        "id": "w5C_59wViz1B"
      },
      "source": [
        "## 7. Inference"
      ]
    },
    {
      "cell_type": "code",
      "execution_count": null,
      "metadata": {
        "id": "8naUl3hNiz1B",
        "outputId": "56bd102c-2dc2-4683-e97d-5db46d81ade9"
      },
      "outputs": [
        {
          "name": "stdout",
          "output_type": "stream",
          "text": [
            "\n",
            "image 1/1 /home/aivn12s1/thangdd/project_object_tracking/MOT17/test/images/MOT17-01-FRCNN_000001.jpg: 384x640 9 objectss, 4.8ms\n",
            "Speed: 1.0ms preprocess, 4.8ms inference, 0.9ms postprocess per image at shape (1, 3, 384, 640)\n",
            "Results saved to \u001b[1mmodels/yolo/detect/predict2\u001b[0m\n"
          ]
        }
      ],
      "source": [
        "sample_path = 'MOT17/test/images/MOT17-01-FRCNN_000001.jpg'\n",
        "results = model.predict(\n",
        "    sample_path,\n",
        "    project=project_name,\n",
        "    name='detect/predict',\n",
        "    save=True\n",
        ")"
      ]
    }
  ],
  "metadata": {
    "accelerator": "GPU",
    "colab": {
      "gpuType": "T4",
      "provenance": []
    },
    "kernelspec": {
      "display_name": "Python 3 (ipykernel)",
      "language": "python",
      "name": "python3"
    },
    "language_info": {
      "codemirror_mode": {
        "name": "ipython",
        "version": 3
      },
      "file_extension": ".py",
      "mimetype": "text/x-python",
      "name": "python",
      "nbconvert_exporter": "python",
      "pygments_lexer": "ipython3",
      "version": "3.11.5"
    }
  },
  "nbformat": 4,
  "nbformat_minor": 0
}